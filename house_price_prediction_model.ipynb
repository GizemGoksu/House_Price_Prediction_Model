{
 "cells": [
  {
   "cell_type": "markdown",
   "id": "967a09a4-d398-4893-a1f2-f77b3f1b4063",
   "metadata": {},
   "source": [
    "# House Price Prediction"
   ]
  },
  {
   "cell_type": "code",
   "execution_count": 267,
   "id": "425fc0be-2e16-459b-a77b-ed0181faa6e7",
   "metadata": {},
   "outputs": [],
   "source": [
    "import pandas as pd\n",
    "import numpy as np\n",
    "from pandas.api.types import is_string_dtype, is_object_dtype, is_numeric_dtype\n",
    "from sklearn.ensemble import RandomForestRegressor\n",
    "import xgboost as xgb\n",
    "from sklearn.feature_selection import RFE\n",
    "from sklearn.model_selection import GridSearchCV"
   ]
  },
  {
   "cell_type": "code",
   "execution_count": 269,
   "id": "1801a352-d3f8-440d-b0ca-b6da2561366b",
   "metadata": {},
   "outputs": [],
   "source": [
    "df = pd.read_csv(\"AmesHousing.csv\")"
   ]
  },
  {
   "cell_type": "code",
   "execution_count": 270,
   "id": "d81b0192-58ea-4b0d-946f-e0c261756863",
   "metadata": {},
   "outputs": [
    {
     "data": {
      "text/html": [
       "<div>\n",
       "<style scoped>\n",
       "    .dataframe tbody tr th:only-of-type {\n",
       "        vertical-align: middle;\n",
       "    }\n",
       "\n",
       "    .dataframe tbody tr th {\n",
       "        vertical-align: top;\n",
       "    }\n",
       "\n",
       "    .dataframe thead th {\n",
       "        text-align: right;\n",
       "    }\n",
       "</style>\n",
       "<table border=\"1\" class=\"dataframe\">\n",
       "  <thead>\n",
       "    <tr style=\"text-align: right;\">\n",
       "      <th></th>\n",
       "      <th>Order</th>\n",
       "      <th>PID</th>\n",
       "      <th>MS SubClass</th>\n",
       "      <th>MS Zoning</th>\n",
       "      <th>Lot Frontage</th>\n",
       "      <th>Lot Area</th>\n",
       "      <th>Street</th>\n",
       "      <th>Alley</th>\n",
       "      <th>Lot Shape</th>\n",
       "      <th>Land Contour</th>\n",
       "      <th>...</th>\n",
       "      <th>Pool Area</th>\n",
       "      <th>Pool QC</th>\n",
       "      <th>Fence</th>\n",
       "      <th>Misc Feature</th>\n",
       "      <th>Misc Val</th>\n",
       "      <th>Mo Sold</th>\n",
       "      <th>Yr Sold</th>\n",
       "      <th>Sale Type</th>\n",
       "      <th>Sale Condition</th>\n",
       "      <th>SalePrice</th>\n",
       "    </tr>\n",
       "  </thead>\n",
       "  <tbody>\n",
       "    <tr>\n",
       "      <th>0</th>\n",
       "      <td>1</td>\n",
       "      <td>526301100</td>\n",
       "      <td>20</td>\n",
       "      <td>RL</td>\n",
       "      <td>141.0</td>\n",
       "      <td>31770</td>\n",
       "      <td>Pave</td>\n",
       "      <td>NaN</td>\n",
       "      <td>IR1</td>\n",
       "      <td>Lvl</td>\n",
       "      <td>...</td>\n",
       "      <td>0</td>\n",
       "      <td>NaN</td>\n",
       "      <td>NaN</td>\n",
       "      <td>NaN</td>\n",
       "      <td>0</td>\n",
       "      <td>5</td>\n",
       "      <td>2010</td>\n",
       "      <td>WD</td>\n",
       "      <td>Normal</td>\n",
       "      <td>215000</td>\n",
       "    </tr>\n",
       "    <tr>\n",
       "      <th>1</th>\n",
       "      <td>2</td>\n",
       "      <td>526350040</td>\n",
       "      <td>20</td>\n",
       "      <td>RH</td>\n",
       "      <td>80.0</td>\n",
       "      <td>11622</td>\n",
       "      <td>Pave</td>\n",
       "      <td>NaN</td>\n",
       "      <td>Reg</td>\n",
       "      <td>Lvl</td>\n",
       "      <td>...</td>\n",
       "      <td>0</td>\n",
       "      <td>NaN</td>\n",
       "      <td>MnPrv</td>\n",
       "      <td>NaN</td>\n",
       "      <td>0</td>\n",
       "      <td>6</td>\n",
       "      <td>2010</td>\n",
       "      <td>WD</td>\n",
       "      <td>Normal</td>\n",
       "      <td>105000</td>\n",
       "    </tr>\n",
       "    <tr>\n",
       "      <th>2</th>\n",
       "      <td>3</td>\n",
       "      <td>526351010</td>\n",
       "      <td>20</td>\n",
       "      <td>RL</td>\n",
       "      <td>81.0</td>\n",
       "      <td>14267</td>\n",
       "      <td>Pave</td>\n",
       "      <td>NaN</td>\n",
       "      <td>IR1</td>\n",
       "      <td>Lvl</td>\n",
       "      <td>...</td>\n",
       "      <td>0</td>\n",
       "      <td>NaN</td>\n",
       "      <td>NaN</td>\n",
       "      <td>Gar2</td>\n",
       "      <td>12500</td>\n",
       "      <td>6</td>\n",
       "      <td>2010</td>\n",
       "      <td>WD</td>\n",
       "      <td>Normal</td>\n",
       "      <td>172000</td>\n",
       "    </tr>\n",
       "    <tr>\n",
       "      <th>3</th>\n",
       "      <td>4</td>\n",
       "      <td>526353030</td>\n",
       "      <td>20</td>\n",
       "      <td>RL</td>\n",
       "      <td>93.0</td>\n",
       "      <td>11160</td>\n",
       "      <td>Pave</td>\n",
       "      <td>NaN</td>\n",
       "      <td>Reg</td>\n",
       "      <td>Lvl</td>\n",
       "      <td>...</td>\n",
       "      <td>0</td>\n",
       "      <td>NaN</td>\n",
       "      <td>NaN</td>\n",
       "      <td>NaN</td>\n",
       "      <td>0</td>\n",
       "      <td>4</td>\n",
       "      <td>2010</td>\n",
       "      <td>WD</td>\n",
       "      <td>Normal</td>\n",
       "      <td>244000</td>\n",
       "    </tr>\n",
       "    <tr>\n",
       "      <th>4</th>\n",
       "      <td>5</td>\n",
       "      <td>527105010</td>\n",
       "      <td>60</td>\n",
       "      <td>RL</td>\n",
       "      <td>74.0</td>\n",
       "      <td>13830</td>\n",
       "      <td>Pave</td>\n",
       "      <td>NaN</td>\n",
       "      <td>IR1</td>\n",
       "      <td>Lvl</td>\n",
       "      <td>...</td>\n",
       "      <td>0</td>\n",
       "      <td>NaN</td>\n",
       "      <td>MnPrv</td>\n",
       "      <td>NaN</td>\n",
       "      <td>0</td>\n",
       "      <td>3</td>\n",
       "      <td>2010</td>\n",
       "      <td>WD</td>\n",
       "      <td>Normal</td>\n",
       "      <td>189900</td>\n",
       "    </tr>\n",
       "  </tbody>\n",
       "</table>\n",
       "<p>5 rows × 82 columns</p>\n",
       "</div>"
      ],
      "text/plain": [
       "   Order        PID  MS SubClass MS Zoning  Lot Frontage  Lot Area Street  \\\n",
       "0      1  526301100           20        RL         141.0     31770   Pave   \n",
       "1      2  526350040           20        RH          80.0     11622   Pave   \n",
       "2      3  526351010           20        RL          81.0     14267   Pave   \n",
       "3      4  526353030           20        RL          93.0     11160   Pave   \n",
       "4      5  527105010           60        RL          74.0     13830   Pave   \n",
       "\n",
       "  Alley Lot Shape Land Contour  ... Pool Area Pool QC  Fence Misc Feature  \\\n",
       "0   NaN       IR1          Lvl  ...         0     NaN    NaN          NaN   \n",
       "1   NaN       Reg          Lvl  ...         0     NaN  MnPrv          NaN   \n",
       "2   NaN       IR1          Lvl  ...         0     NaN    NaN         Gar2   \n",
       "3   NaN       Reg          Lvl  ...         0     NaN    NaN          NaN   \n",
       "4   NaN       IR1          Lvl  ...         0     NaN  MnPrv          NaN   \n",
       "\n",
       "  Misc Val Mo Sold Yr Sold Sale Type  Sale Condition  SalePrice  \n",
       "0        0       5    2010       WD           Normal     215000  \n",
       "1        0       6    2010       WD           Normal     105000  \n",
       "2    12500       6    2010       WD           Normal     172000  \n",
       "3        0       4    2010       WD           Normal     244000  \n",
       "4        0       3    2010       WD           Normal     189900  \n",
       "\n",
       "[5 rows x 82 columns]"
      ]
     },
     "execution_count": 270,
     "metadata": {},
     "output_type": "execute_result"
    }
   ],
   "source": [
    "df.head()"
   ]
  },
  {
   "cell_type": "markdown",
   "id": "735b52e2-e3da-423b-a7c0-62a27e2b6f26",
   "metadata": {},
   "source": [
    "df.info()"
   ]
  },
  {
   "cell_type": "code",
   "execution_count": 272,
   "id": "2030d629-ccbb-4ec4-a0ef-d82a2839b657",
   "metadata": {},
   "outputs": [
    {
     "name": "stdout",
     "output_type": "stream",
     "text": [
      "Lot Frontage: 490 --> float64\n",
      "Alley: 2732 --> object\n",
      "Mas Vnr Type: 1775 --> object\n",
      "Mas Vnr Area: 23 --> float64\n",
      "Bsmt Qual: 80 --> object\n",
      "Bsmt Cond: 80 --> object\n",
      "Bsmt Exposure: 83 --> object\n",
      "BsmtFin Type 1: 80 --> object\n",
      "BsmtFin SF 1: 1 --> float64\n",
      "BsmtFin Type 2: 81 --> object\n",
      "BsmtFin SF 2: 1 --> float64\n",
      "Bsmt Unf SF: 1 --> float64\n",
      "Total Bsmt SF: 1 --> float64\n",
      "Electrical: 1 --> object\n",
      "Bsmt Full Bath: 2 --> float64\n",
      "Bsmt Half Bath: 2 --> float64\n",
      "Fireplace Qu: 1422 --> object\n",
      "Garage Type: 157 --> object\n",
      "Garage Yr Blt: 159 --> float64\n",
      "Garage Finish: 159 --> object\n",
      "Garage Cars: 1 --> float64\n",
      "Garage Area: 1 --> float64\n",
      "Garage Qual: 159 --> object\n",
      "Garage Cond: 159 --> object\n",
      "Pool QC: 2917 --> object\n",
      "Fence: 2358 --> object\n",
      "Misc Feature: 2824 --> object\n"
     ]
    }
   ],
   "source": [
    "for label, content in df.items():\n",
    "    col = df[label]\n",
    "    if pd.isnull(col).sum():\n",
    "        print(f\"{label}: {pd.isnull(col).sum()} --> {col.dtype}\")"
   ]
  },
  {
   "cell_type": "markdown",
   "id": "61397559-4268-40db-9b7d-a92affdc17fd",
   "metadata": {},
   "source": [
    "## Categorical Variables"
   ]
  },
  {
   "cell_type": "code",
   "execution_count": 274,
   "id": "4995d2b4-35ab-4143-a1f4-3fce877233a5",
   "metadata": {},
   "outputs": [],
   "source": [
    "def train_cats(df):\n",
    "    for label, content in df.items():\n",
    "        if is_object_dtype(content):\n",
    "            df[label] = content.astype(\"category\").cat.as_ordered()"
   ]
  },
  {
   "cell_type": "code",
   "execution_count": 275,
   "id": "7cfd29c0-7d35-48f7-8cca-6cdf9ebfa46b",
   "metadata": {},
   "outputs": [],
   "source": [
    "def apply_cats(df,train):\n",
    "    for label, content in df.items():\n",
    "        if train[label].dtype == \"category\":\n",
    "            df[label] = pd.Categorical(content,categories = train[label].cat.categories, ordered = True)"
   ]
  },
  {
   "cell_type": "code",
   "execution_count": 276,
   "id": "4e35382a-d56b-41dd-846c-033a3a062e2f",
   "metadata": {},
   "outputs": [],
   "source": [
    "def numericalize(df,col,name):\n",
    "    if not is_numeric_dtype(col):\n",
    "        df[name] = col.cat.codes + 1"
   ]
  },
  {
   "cell_type": "code",
   "execution_count": 277,
   "id": "9957a63a-b056-41d3-9b71-7a5311294584",
   "metadata": {},
   "outputs": [],
   "source": [
    "train_cats(df)"
   ]
  },
  {
   "cell_type": "markdown",
   "id": "6fb2845c-9a5d-4d03-a888-6b963022818b",
   "metadata": {},
   "source": [
    "## Handling Missing Values"
   ]
  },
  {
   "cell_type": "code",
   "execution_count": 279,
   "id": "543f3374-057a-4201-b131-e67e40896d78",
   "metadata": {},
   "outputs": [],
   "source": [
    "def fix_missing(df, col, name, nan_dict, is_train):\n",
    "    if is_train:\n",
    "        if is_numeric_dtype(col):\n",
    "            if pd.isnull(col).sum():\n",
    "                df[name+\"_na\"] = pd.isnull(col)\n",
    "                nan_dict[name] = col.median()\n",
    "                df[name] = col.fillna(nan_dict[name])\n",
    "    else:\n",
    "        if is_numeric_dtype(col):\n",
    "            if name in nan_dict:\n",
    "                df[name+\"_na\"] = pd.isnull(col)\n",
    "                df[name] = col.fillna(nan_dict[name])\n",
    "\n",
    "            else:\n",
    "                df[name] = col.fillna(df[name].median())"
   ]
  },
  {
   "cell_type": "code",
   "execution_count": 280,
   "id": "fd357efe-8a2a-43fb-9d7f-01d097caa5ea",
   "metadata": {},
   "outputs": [],
   "source": [
    "def proc_df(df, y_fld, nan_dict=None, is_train= True):\n",
    "    df = df.copy()\n",
    "    y = df[y_fld].values\n",
    "\n",
    "    df.drop(y_fld, axis = 1, inplace = True)\n",
    "\n",
    "    if nan_dict is None:\n",
    "        nan_dict = {}\n",
    "\n",
    "    for label, content in df.items():\n",
    "        fix_missing(df, content, label, nan_dict, is_train)\n",
    "        numericalize(df, content, label)\n",
    "\n",
    "    if is_train:\n",
    "        return df, y, nan_dict\n",
    "\n",
    "    return df, y"
   ]
  },
  {
   "cell_type": "code",
   "execution_count": 281,
   "id": "96ac3ce6-7e19-4f4a-ab1c-df3c48e12baa",
   "metadata": {},
   "outputs": [],
   "source": [
    "def split_train_val(df, n):\n",
    "    return df[:n].copy(), df[n:].copy()"
   ]
  },
  {
   "cell_type": "code",
   "execution_count": 282,
   "id": "57943509-8487-45cf-ae7d-cd015ea98c66",
   "metadata": {},
   "outputs": [],
   "source": [
    "n_valid = 2100\n",
    "n_train = len(df) - n_valid\n",
    "raw_train, raw_valid = split_train_val(df, n_train)"
   ]
  },
  {
   "cell_type": "code",
   "execution_count": 283,
   "id": "82a356f8-a0de-41b9-8804-b3f54cd5e5be",
   "metadata": {},
   "outputs": [],
   "source": [
    "x_train, y_train, nas = proc_df(raw_train, 'SalePrice')"
   ]
  },
  {
   "cell_type": "code",
   "execution_count": 284,
   "id": "e592fd49-88e3-4a10-9a5f-bb90ea0a9f4e",
   "metadata": {},
   "outputs": [],
   "source": [
    "x_valid, y_valid = proc_df(raw_valid, 'SalePrice', nan_dict = nas, is_train = False)"
   ]
  },
  {
   "cell_type": "code",
   "execution_count": 285,
   "id": "314d8107-edea-471a-b281-b0485aadc826",
   "metadata": {},
   "outputs": [
    {
     "data": {
      "text/plain": [
       "Order               0\n",
       "PID                 0\n",
       "MS SubClass         0\n",
       "MS Zoning           0\n",
       "Lot Frontage        0\n",
       "                   ..\n",
       "Sale Type           0\n",
       "Sale Condition      0\n",
       "Lot Frontage_na     0\n",
       "Mas Vnr Area_na     0\n",
       "Garage Yr Blt_na    0\n",
       "Length: 84, dtype: int64"
      ]
     },
     "execution_count": 285,
     "metadata": {},
     "output_type": "execute_result"
    }
   ],
   "source": [
    "x_train.isnull().sum()"
   ]
  },
  {
   "cell_type": "code",
   "execution_count": 286,
   "id": "342776e7-5e23-4706-81e2-091f88384b56",
   "metadata": {},
   "outputs": [
    {
     "data": {
      "text/plain": [
       "Order               0\n",
       "PID                 0\n",
       "MS SubClass         0\n",
       "MS Zoning           0\n",
       "Lot Frontage        0\n",
       "                   ..\n",
       "Sale Type           0\n",
       "Sale Condition      0\n",
       "Lot Frontage_na     0\n",
       "Mas Vnr Area_na     0\n",
       "Garage Yr Blt_na    0\n",
       "Length: 84, dtype: int64"
      ]
     },
     "execution_count": 286,
     "metadata": {},
     "output_type": "execute_result"
    }
   ],
   "source": [
    "x_valid.isnull().sum()"
   ]
  },
  {
   "cell_type": "markdown",
   "id": "95707332-0427-4ce4-92dd-f94cee077541",
   "metadata": {},
   "source": [
    "## Models"
   ]
  },
  {
   "cell_type": "markdown",
   "id": "1308f81a-c00c-4e9d-a763-16811472f62c",
   "metadata": {},
   "source": [
    "### XGBoost"
   ]
  },
  {
   "cell_type": "code",
   "execution_count": 289,
   "id": "b0ffc07c-7892-4d7d-8b3a-aa4e1600e201",
   "metadata": {},
   "outputs": [
    {
     "name": "stdout",
     "output_type": "stream",
     "text": [
      "RMSLE of train set: 0.00256043228459213\n",
      "RMSLE of valid set: 0.15308314209570822\n"
     ]
    },
    {
     "name": "stderr",
     "output_type": "stream",
     "text": [
      "C:\\ProgramData\\anaconda3\\Lib\\site-packages\\sklearn\\metrics\\_regression.py:675: FutureWarning: 'squared' is deprecated in version 1.4 and will be removed in 1.6. To calculate the root mean squared logarithmic error, use the function'root_mean_squared_log_error'.\n",
      "  warnings.warn(\n",
      "C:\\ProgramData\\anaconda3\\Lib\\site-packages\\sklearn\\metrics\\_regression.py:675: FutureWarning: 'squared' is deprecated in version 1.4 and will be removed in 1.6. To calculate the root mean squared logarithmic error, use the function'root_mean_squared_log_error'.\n",
      "  warnings.warn(\n"
     ]
    }
   ],
   "source": [
    "xgb_model = xgb.XGBRegressor(random_state=42)\n",
    "xgb_model.fit(x_train, y_train)\n",
    "y_pred_xgb = xgb_model.predict(x_valid)\n",
    "\n",
    "rmsle_train = mean_squared_log_error(y_train, xgb_model.predict(x_train), squared=False)\n",
    "rmsle_valid = mean_squared_log_error(y_valid, y_pred_xgb, squared=False)\n",
    "print(\"RMSLE of train set:\", rmsle_train)\n",
    "print(\"RMSLE of valid set:\", rmsle_valid)"
   ]
  },
  {
   "cell_type": "markdown",
   "id": "e2520ceb-246c-4e1b-8824-fcc4f125b4da",
   "metadata": {},
   "source": [
    "### Random Forest Regressor"
   ]
  },
  {
   "cell_type": "code",
   "execution_count": 291,
   "id": "5d04fc5e-79de-4f91-9cab-b4d63fb258ae",
   "metadata": {},
   "outputs": [
    {
     "name": "stdout",
     "output_type": "stream",
     "text": [
      "RMSLE of train set: 0.07163246294674934\n",
      "RMSLE of valid set: 0.145207621255775\n"
     ]
    },
    {
     "name": "stderr",
     "output_type": "stream",
     "text": [
      "C:\\ProgramData\\anaconda3\\Lib\\site-packages\\sklearn\\metrics\\_regression.py:675: FutureWarning: 'squared' is deprecated in version 1.4 and will be removed in 1.6. To calculate the root mean squared logarithmic error, use the function'root_mean_squared_log_error'.\n",
      "  warnings.warn(\n",
      "C:\\ProgramData\\anaconda3\\Lib\\site-packages\\sklearn\\metrics\\_regression.py:675: FutureWarning: 'squared' is deprecated in version 1.4 and will be removed in 1.6. To calculate the root mean squared logarithmic error, use the function'root_mean_squared_log_error'.\n",
      "  warnings.warn(\n"
     ]
    }
   ],
   "source": [
    "rf = RandomForestRegressor(n_estimators=100, random_state=42)\n",
    "rf.fit(x_train, y_train)\n",
    "y_pred_rf = rf.predict(x_valid)\n",
    "\n",
    "rmsle_train = mean_squared_log_error(y_train, rf.predict(x_train), squared=False)\n",
    "rmsle_valid = mean_squared_log_error(y_valid, y_pred_rf, squared=False)\n",
    "print(\"RMSLE of train set:\", rmsle_train)\n",
    "print(\"RMSLE of valid set:\", rmsle_valid)"
   ]
  },
  {
   "cell_type": "markdown",
   "id": "a9b06825-b2ea-4b24-b3e8-26d76134e475",
   "metadata": {},
   "source": [
    "- Recursive Feature Elimination (RFE)"
   ]
  },
  {
   "cell_type": "code",
   "execution_count": 293,
   "id": "df24b3b7-6580-45d4-aa95-232e4c35cb69",
   "metadata": {},
   "outputs": [
    {
     "name": "stdout",
     "output_type": "stream",
     "text": [
      "Selected features: ['PID', 'Lot Frontage', 'Lot Area', 'Overall Qual', 'Year Built', 'Year Remod/Add', 'Mas Vnr Area', 'Exter Qual', 'BsmtFin SF 1', 'Bsmt Unf SF', 'Total Bsmt SF', '1st Flr SF', 'Gr Liv Area', 'Kitchen Qual', 'TotRms AbvGrd', 'Garage Yr Blt', 'Garage Cars', 'Garage Area', 'Open Porch SF', 'Mo Sold']\n",
      "RMSLE of train set: 0.07651894783358014\n",
      "RMSLE of valid set: 0.15279333120030378\n"
     ]
    },
    {
     "name": "stderr",
     "output_type": "stream",
     "text": [
      "C:\\ProgramData\\anaconda3\\Lib\\site-packages\\sklearn\\metrics\\_regression.py:675: FutureWarning: 'squared' is deprecated in version 1.4 and will be removed in 1.6. To calculate the root mean squared logarithmic error, use the function'root_mean_squared_log_error'.\n",
      "  warnings.warn(\n",
      "C:\\ProgramData\\anaconda3\\Lib\\site-packages\\sklearn\\metrics\\_regression.py:675: FutureWarning: 'squared' is deprecated in version 1.4 and will be removed in 1.6. To calculate the root mean squared logarithmic error, use the function'root_mean_squared_log_error'.\n",
      "  warnings.warn(\n"
     ]
    }
   ],
   "source": [
    "# RandomForest with RFE\n",
    "rfe = RFE(estimator=RandomForestRegressor(n_estimators=100, random_state=42), n_features_to_select=20)\n",
    "rfe.fit(x_train, y_train)\n",
    "\n",
    "selected_features = x_train.columns[rfe.support_]\n",
    "print(\"Selected features:\", list(selected_features))\n",
    "\n",
    "# Transforming data\n",
    "x_train_rfe = rfe.transform(x_train)\n",
    "x_valid_rfe = rfe.transform(x_valid)\n",
    "\n",
    "# Training model with RFE\n",
    "rf_rfe = RandomForestRegressor(n_estimators=100, random_state=42)\n",
    "rf_rfe.fit(x_train_rfe, y_train)\n",
    "\n",
    "y_val_pred_rfe = rf_rfe.predict(x_valid_rfe)\n",
    "\n",
    "rmsle_train = mean_squared_log_error(y_train, rf_rfe.predict(x_train_rfe), squared=False)\n",
    "rmsle_valid = mean_squared_log_error(y_valid, y_val_pred_rfe, squared=False)\n",
    "print(\"RMSLE of train set:\", rmsle_train)\n",
    "print(\"RMSLE of valid set:\", rmsle_valid)"
   ]
  },
  {
   "cell_type": "markdown",
   "id": "1eae622b-4398-4c6d-b47d-67b3299aff01",
   "metadata": {},
   "source": [
    "- Hyperparameter tuning"
   ]
  },
  {
   "cell_type": "code",
   "execution_count": 295,
   "id": "bcc9ee11-cd1c-4f48-b825-edd4020fcf5a",
   "metadata": {},
   "outputs": [
    {
     "name": "stdout",
     "output_type": "stream",
     "text": [
      "Fitting 3 folds for each of 72 candidates, totalling 216 fits\n",
      "Best parameters: {'max_depth': None, 'max_features': None, 'min_samples_leaf': 1, 'min_samples_split': 2, 'n_estimators': 100}\n"
     ]
    }
   ],
   "source": [
    "rf = RandomForestRegressor(random_state=42)\n",
    "\n",
    "param_grid = {\n",
    "    'n_estimators': [100, 200],\n",
    "    'max_depth': [10, 20, None],\n",
    "    'min_samples_split': [2, 5],\n",
    "    'min_samples_leaf': [1, 4],\n",
    "    'max_features': ['sqrt', 'log2', None]  # \"auto\" kaldırıldı, None eklendi\n",
    "}\n",
    "\n",
    "# GridSearchCV\n",
    "grid_search = GridSearchCV(estimator=rf,\n",
    "                           param_grid=param_grid,\n",
    "                           cv=3,\n",
    "                           scoring='neg_mean_squared_log_error',  # RMSLE için negatif MSE log kullanıyoruz\n",
    "                           n_jobs=-1,\n",
    "                           verbose=2)\n",
    "\n",
    "# Fitting the model\n",
    "grid_search.fit(x_train_rfe, y_train)\n",
    "\n",
    "print(\"Best parameters:\", grid_search.best_params_)\n",
    "\n",
    "# En iyi model\n",
    "best_rf = grid_search.best_estimator_"
   ]
  },
  {
   "cell_type": "code",
   "execution_count": 296,
   "id": "de9edb88-a222-4d79-9612-ed6f64cc502f",
   "metadata": {},
   "outputs": [
    {
     "name": "stdout",
     "output_type": "stream",
     "text": [
      "Train RMSLE: 0.07652\n",
      "Validation RMSLE: 0.15279\n"
     ]
    }
   ],
   "source": [
    "# Train prediction and RMSLE\n",
    "y_train_pred = best_rf.predict(x_train_rfe)\n",
    "train_rmsle = np.sqrt(mean_squared_log_error(y_train, y_train_pred))\n",
    "    \n",
    "# Validation prediction and RMSLE\n",
    "y_val_pred = best_rf.predict(x_valid_rfe)\n",
    "val_rmsle = np.sqrt(mean_squared_log_error(y_valid, y_val_pred))\n",
    "    \n",
    "print(f\"Train RMSLE: {train_rmsle:.5f}\")\n",
    "print(f\"Validation RMSLE: {val_rmsle:.5f}\")"
   ]
  },
  {
   "cell_type": "markdown",
   "id": "96a92a77-dfe3-45e7-93b5-95bcd8c58576",
   "metadata": {},
   "source": [
    "- Feature importance"
   ]
  },
  {
   "cell_type": "code",
   "execution_count": 324,
   "id": "44d8376b-e6f0-4889-b425-35b43de4ca0b",
   "metadata": {},
   "outputs": [
    {
     "data": {
      "image/png": "[encoded data removed]",
      "text/plain": [
       "<Figure size 1000x600 with 1 Axes>"
      ]
     },
     "metadata": {},
     "output_type": "display_data"
    }
   ],
   "source": [
    "selected_features = x_train.columns[rfe.support_]\n",
    "importances = best_rf.feature_importances_\n",
    "\n",
    "feat_df = pd.DataFrame({'Feature': selected_features, 'Importance': importances})\n",
    "feat_df = feat_df.sort_values('Importance', ascending=False).head(20)\n",
    "\n",
    "plt.figure(figsize=(10,6))\n",
    "sns.barplot(x='Importance', y='Feature', data=feat_df)\n",
    "plt.title(\"Most Important 20 Feature\")\n",
    "plt.tight_layout()\n",
    "plt.show()"
   ]
  }
 ],
 "metadata": {
  "kernelspec": {
   "display_name": "Python 3 (ipykernel)",
   "language": "python",
   "name": "python3"
  },
  "language_info": {
   "codemirror_mode": {
    "name": "ipython",
    "version": 3
   },
   "file_extension": ".py",
   "mimetype": "text/x-python",
   "name": "python",
   "nbconvert_exporter": "python",
   "pygments_lexer": "ipython3",
   "version": "3.12.7"
  }
 },
 "nbformat": 4,
 "nbformat_minor": 5
}
